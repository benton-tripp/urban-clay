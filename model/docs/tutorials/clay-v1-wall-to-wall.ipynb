{
 "cells": [
  {
   "cell_type": "markdown",
   "id": "0cc5e729-9116-4ec9-bf1e-8346cbccdf7b",
   "metadata": {},
   "source": [
    "## Run Clay v1\n",
    "\n",
    "This notebook shows how to run Clay v1 wall-to-wall, from downloading imagery\n",
    "to training a tiny, fine-tuned head. This will include the following steps:\n",
    "\n",
    "1. Set a location and date range of interest\n",
    "2. Download Sentinel-2 imagery for this specification\n",
    "3. Load the model checkpoint\n",
    "4. Prepare data into a format for the model\n",
    "5. Run the model on the imagery\n",
    "6. Analyse the model embeddings output using PCA\n",
    "7. Train a Support Vector Machine fine-tuning head"
   ]
  },
  {
   "cell_type": "code",
   "execution_count": 1,
   "id": "add63cd9",
   "metadata": {},
   "outputs": [],
   "source": [
    "# Add the repo root to the sys path for the model import below\n",
    "import sys\n",
    "\n",
    "sys.path.append(\"../..\")"
   ]
  },
  {
   "cell_type": "code",
   "execution_count": 2,
   "id": "6a17b8a8-a9c6-4053-833e-de97287fae49",
   "metadata": {},
   "outputs": [],
   "source": [
    "import math\n",
    "\n",
    "import geopandas as gpd\n",
    "import numpy as np\n",
    "import pandas as pd\n",
    "import pystac_client\n",
    "import stackstac\n",
    "import torch\n",
    "import yaml\n",
    "from box import Box\n",
    "from matplotlib import pyplot as plt\n",
    "from rasterio.enums import Resampling\n",
    "from shapely import Point\n",
    "from sklearn import decomposition, svm\n",
    "from torchvision.transforms import v2\n",
    "\n",
    "from src.model import ClayMAEModule"
   ]
  },
  {
   "cell_type": "markdown",
   "id": "beac6394-9762-422b-9f5d-82d226018c0c",
   "metadata": {},
   "source": [
    "### Specify location and date of interest\n",
    "In this example we will use a location in Portugal where a forest fire happened. We will run the model over the time period of the fire and analyse the model embeddings."
   ]
  },
  {
   "cell_type": "code",
   "execution_count": 3,
   "id": "08d7787d-1506-4de7-89dc-c1054910acf7",
   "metadata": {},
   "outputs": [],
   "source": [
    "# Point over Monchique Portugal\n",
    "lat, lon = 37.30939, -8.57207\n",
    "\n",
    "# Dates of a large forest fire\n",
    "start = \"2018-07-01\"\n",
    "end = \"2018-09-01\""
   ]
  },
  {
   "cell_type": "markdown",
   "id": "2bd226c9-003b-4867-a64a-8ae887e7e20a",
   "metadata": {},
   "source": [
    "### Get data from STAC catalog\n",
    "\n",
    "Based on the location and date we can obtain a stack of imagery using stackstac. Let's start with finding the STAC items we want to analyse."
   ]
  },
  {
   "cell_type": "code",
   "execution_count": 4,
   "id": "2e80743c-7c77-459b-9984-f6c26cdff549",
   "metadata": {},
   "outputs": [
    {
     "name": "stderr",
     "output_type": "stream",
     "text": [
      "/home/tam/apps/miniforge3/envs/claymodel/lib/python3.11/site-packages/pystac_client/item_search.py:850: FutureWarning: get_all_items() is deprecated, use item_collection() instead.\n",
      "  warnings.warn(\n"
     ]
    },
    {
     "name": "stdout",
     "output_type": "stream",
     "text": [
      "Found 12 items\n"
     ]
    }
   ],
   "source": [
    "STAC_API = \"https://earth-search.aws.element84.com/v1\"\n",
    "COLLECTION = \"sentinel-2-l2a\"\n",
    "\n",
    "# Search the catalogue\n",
    "catalog = pystac_client.Client.open(STAC_API)\n",
    "search = catalog.search(\n",
    "    collections=[COLLECTION],\n",
    "    datetime=f\"{start}/{end}\",\n",
    "    bbox=(lon - 1e-5, lat - 1e-5, lon + 1e-5, lat + 1e-5),\n",
    "    max_items=100,\n",
    "    query={\"eo:cloud_cover\": {\"lt\": 80}},\n",
    ")\n",
    "\n",
    "all_items = search.get_all_items()\n",
    "\n",
    "# Reduce to one per date (there might be some duplicates\n",
    "# based on the location)\n",
    "items = []\n",
    "dates = []\n",
    "for item in all_items:\n",
    "    if item.datetime.date() not in dates:\n",
    "        items.append(item)\n",
    "        dates.append(item.datetime.date())\n",
    "\n",
    "print(f\"Found {len(items)} items\")"
   ]
  },
  {
   "cell_type": "markdown",
   "id": "5b7c68ae-7c8a-446a-8bc7-5afba70183c2",
   "metadata": {},
   "source": [
    "### Create a bounding box around the point of interest\n",
    "\n",
    "This is needed in the projection of the data so that we can generate image chips of the right size."
   ]
  },
  {
   "cell_type": "code",
   "execution_count": 5,
   "id": "0f3573b5-5a00-47d9-a648-5c4d7cd2c996",
   "metadata": {},
   "outputs": [],
   "source": [
    "# Extract coordinate system from first item\n",
    "epsg = items[0].properties[\"proj:epsg\"]\n",
    "\n",
    "# Convert point of interest into the image projection\n",
    "# (assumes all images are in the same projection)\n",
    "poidf = gpd.GeoDataFrame(\n",
    "    pd.DataFrame(),\n",
    "    crs=\"EPSG:4326\",\n",
    "    geometry=[Point(lon, lat)],\n",
    ").to_crs(epsg)\n",
    "\n",
    "coords = poidf.iloc[0].geometry.coords[0]\n",
    "\n",
    "# Create bounds in projection\n",
    "size = 256\n",
    "gsd = 10\n",
    "bounds = (\n",
    "    coords[0] - (size * gsd) // 2,\n",
    "    coords[1] - (size * gsd) // 2,\n",
    "    coords[0] + (size * gsd) // 2,\n",
    "    coords[1] + (size * gsd) // 2,\n",
    ")"
   ]
  },
  {
   "cell_type": "markdown",
   "id": "bbbd3f67-5f2c-46dc-9ee1-2ef1f50fa032",
   "metadata": {},
   "source": [
    "### Retrieve the imagery data."
   ]
  },
  {
   "cell_type": "code",
   "execution_count": 6,
   "id": "8b8d3824-e48c-4f9d-9c7b-181c0800f96f",
   "metadata": {},
   "outputs": [
    {
     "name": "stdout",
     "output_type": "stream",
     "text": [
      "<xarray.DataArray 'stackstac-91f577dfbc973b2eff4d609fa1d57243' (time: 12,\n",
      "                                                                band: 4,\n",
      "                                                                y: 256, x: 256)> Size: 13MB\n",
      "dask.array<fetch_raster_window, shape=(12, 4, 256, 256), dtype=float32, chunksize=(1, 1, 256, 256), chunktype=numpy.ndarray>\n",
      "Coordinates: (12/53)\n",
      "  * time                                     (time) datetime64[ns] 96B 2018-0...\n",
      "    id                                       (time) <U24 1kB 'S2B_29SNB_20180...\n",
      "  * band                                     (band) <U5 80B 'blue' ... 'nir'\n",
      "  * x                                        (x) float64 2kB 5.366e+05 ... 5....\n",
      "  * y                                        (y) float64 2kB 4.131e+06 ... 4....\n",
      "    platform                                 (time) <U11 528B 'sentinel-2b' ....\n",
      "    ...                                       ...\n",
      "    gsd                                      int64 8B 10\n",
      "    proj:transform                           object 8B {0, 4200000, 10, 49998...\n",
      "    common_name                              (band) <U5 80B 'blue' ... 'nir'\n",
      "    center_wavelength                        (band) float64 32B 0.49 ... 0.842\n",
      "    full_width_half_max                      (band) float64 32B 0.098 ... 0.145\n",
      "    epsg                                     int64 8B 32629\n",
      "Attributes:\n",
      "    spec:        RasterSpec(epsg=32629, bounds=(536640.79691545, 4128000.7407...\n",
      "    crs:         epsg:32629\n",
      "    transform:   | 10.00, 0.00, 536640.80|\\n| 0.00,-10.00, 4130560.74|\\n| 0.0...\n",
      "    resolution:  10\n"
     ]
    },
    {
     "name": "stderr",
     "output_type": "stream",
     "text": [
      "/home/tam/apps/miniforge3/envs/claymodel/lib/python3.11/site-packages/stackstac/prepare.py:408: UserWarning: The argument 'infer_datetime_format' is deprecated and will be removed in a future version. A strict version of it is now the default, see https://pandas.pydata.org/pdeps/0004-consistent-to-datetime-parsing.html. You can safely remove this argument.\n",
      "  times = pd.to_datetime(\n"
     ]
    }
   ],
   "source": [
    "# Retrieve the pixel values, for the bounding box in\n",
    "# the target projection. In this example we use only\n",
    "# the RGB and NIR bands.\n",
    "stack = stackstac.stack(\n",
    "    items,\n",
    "    bounds=bounds,\n",
    "    snap_bounds=False,\n",
    "    epsg=epsg,\n",
    "    resolution=gsd,\n",
    "    dtype=\"float32\",\n",
    "    rescale=False,\n",
    "    fill_value=0,\n",
    "    assets=[\"blue\", \"green\", \"red\", \"nir\"],\n",
    "    resampling=Resampling.nearest,\n",
    ")\n",
    "\n",
    "print(stack)\n",
    "\n",
    "stack = stack.compute()"
   ]
  },
  {
   "cell_type": "markdown",
   "id": "77354bee-bea3-43e0-8936-5808b352e25f",
   "metadata": {},
   "source": [
    "### Let's have a look at the imagery we just downloaded\n",
    "\n",
    "The imagery will contain 7 dates before the fire, of which two are pretty cloudy images. There are also 5 images after the forest fire."
   ]
  },
  {
   "cell_type": "code",
   "execution_count": null,
   "id": "008b9c7d",
   "metadata": {},
   "outputs": [],
   "source": [
    "stack.sel(band=[\"red\", \"green\", \"blue\"]).plot.imshow(\n",
    "    row=\"time\", rgb=\"band\", vmin=0, vmax=2000, col_wrap=6\n",
    ")"
   ]
  },
  {
   "cell_type": "markdown",
   "id": "e3c5f64a",
   "metadata": {},
   "source": [
    "![Minicube visualization](https://github.com/Clay-foundation/model/assets/901647/c6e924e5-6ba1-4924-b99a-df8b90731a5f)"
   ]
  },
  {
   "cell_type": "markdown",
   "id": "a7aa15e9-0285-4cac-816d-a58d2ceda389",
   "metadata": {},
   "source": [
    "### Load the model\n",
    "\n",
    "We now have the data to analyse, let's load the model."
   ]
  },
  {
   "cell_type": "code",
   "execution_count": 8,
   "id": "f3fb9b6f-00e4-45a1-b575-2484b5afd511",
   "metadata": {},
   "outputs": [
    {
     "name": "stderr",
     "output_type": "stream",
     "text": [
      "/home/tam/apps/miniforge3/envs/claymodel/lib/python3.11/site-packages/lightning/pytorch/utilities/migration/utils.py:55: The loaded checkpoint was produced with Lightning v2.2.4, which is newer than your current Lightning version: v2.1.4\n",
      "/home/tam/apps/miniforge3/envs/claymodel/lib/python3.11/site-packages/torch/nn/modules/transformer.py:282: UserWarning: enable_nested_tensor is True, but self.use_nested_tensor is False because encoder_layer.self_attn.batch_first was not True(use batch_first for better inference performance)\n",
      "  warnings.warn(f\"enable_nested_tensor is True, but self.use_nested_tensor is False because {why_not_sparsity_fast_path}\")\n"
     ]
    }
   ],
   "source": [
    "device = torch.device(\"cuda\") if torch.cuda.is_available() else torch.device(\"cpu\")\n",
    "ckpt = \"https://clay-model-ckpt.s3.amazonaws.com/v0.5.7/mae_v0.5.7_epoch-13_val-loss-0.3098.ckpt\"\n",
    "torch.set_default_device(device)\n",
    "\n",
    "model = ClayMAEModule.load_from_checkpoint(\n",
    "    ckpt, metadata_path=\"../../configs/metadata.yaml\", shuffle=False, mask_ratio=0\n",
    ")\n",
    "model.eval()\n",
    "\n",
    "model = model.to(device)"
   ]
  },
  {
   "cell_type": "markdown",
   "id": "9422d855-c73b-43c3-9a06-fd89d7f4eb08",
   "metadata": {},
   "source": [
    "### Prepare band metadata for passing it to the model\n",
    "\n",
    "This is the most technical part so far. We will take the information in the stack of imagery and convert it into the format that the model requires. This includes converting the lat/lon and the date of the imagery into normalized values.\n",
    "\n",
    "The Clay model will accept any band combination in any order, from different platforms. But for this the model needs to know the wavelength of each band that is passed to it, and normalization parameters for each band as well. It will use that to normalize the data and to interpret each band based on its central wavelength.\n",
    "\n",
    "For Sentinel-2 we can use a metadata file of the model to extract those values. But this could also be something custom for a different platform."
   ]
  },
  {
   "cell_type": "code",
   "execution_count": 9,
   "id": "1e9cb385-1aa6-453f-9a5b-1b388a95c407",
   "metadata": {},
   "outputs": [],
   "source": [
    "# Extract mean, std, and wavelengths from metadata\n",
    "platform = \"sentinel-2-l2a\"\n",
    "metadata = Box(yaml.safe_load(open(\"../../configs/metadata.yaml\")))\n",
    "mean = []\n",
    "std = []\n",
    "waves = []\n",
    "# Use the band names to get the correct values in the correct order.\n",
    "for band in stack.band:\n",
    "    mean.append(metadata[platform].bands.mean[str(band.values)])\n",
    "    std.append(metadata[platform].bands.std[str(band.values)])\n",
    "    waves.append(metadata[platform].bands.wavelength[str(band.values)])\n",
    "\n",
    "# Prepare the normalization transform function using the mean and std values.\n",
    "transform = v2.Compose(\n",
    "    [\n",
    "        v2.Normalize(mean=mean, std=std),\n",
    "    ]\n",
    ")"
   ]
  },
  {
   "cell_type": "markdown",
   "id": "c2d8e1f3-011d-4be5-8071-547f0ad91ad6",
   "metadata": {},
   "source": [
    "### Convert the band pixel data into the format for the model\n",
    "\n",
    "We will take the information in the stack of imagery and convert it into the format that the model requires. This includes converting the lat/lon and the date of the imagery into normalized values."
   ]
  },
  {
   "cell_type": "code",
   "execution_count": 10,
   "id": "a5bbe0c2-2cc3-428c-8d38-7e9516b6134a",
   "metadata": {},
   "outputs": [],
   "source": [
    "# Prep datetimes embedding using a normalization function from the model code.\n",
    "def normalize_timestamp(date):\n",
    "    week = date.isocalendar().week * 2 * np.pi / 52\n",
    "    hour = date.hour * 2 * np.pi / 24\n",
    "\n",
    "    return (math.sin(week), math.cos(week)), (math.sin(hour), math.cos(hour))\n",
    "\n",
    "\n",
    "datetimes = stack.time.values.astype(\"datetime64[s]\").tolist()\n",
    "times = [normalize_timestamp(dat) for dat in datetimes]\n",
    "week_norm = [dat[0] for dat in times]\n",
    "hour_norm = [dat[1] for dat in times]\n",
    "\n",
    "\n",
    "# Prep lat/lon embedding using the\n",
    "def normalize_latlon(lat, lon):\n",
    "    lat = lat * np.pi / 180\n",
    "    lon = lon * np.pi / 180\n",
    "\n",
    "    return (math.sin(lat), math.cos(lat)), (math.sin(lon), math.cos(lon))\n",
    "\n",
    "\n",
    "latlons = [normalize_latlon(lat, lon)] * len(times)\n",
    "lat_norm = [dat[0] for dat in latlons]\n",
    "lon_norm = [dat[1] for dat in latlons]\n",
    "\n",
    "# Normalize pixels\n",
    "pixels = torch.from_numpy(stack.data.astype(np.float32))\n",
    "pixels = transform(pixels)"
   ]
  },
  {
   "cell_type": "markdown",
   "id": "fe34640d-48df-41b0-a749-4d6ada1a42d7",
   "metadata": {},
   "source": [
    "### Combine the metadata and the transformed pixels\n",
    "\n",
    "Now we can combine all these inputs into a dictionary that combines everything."
   ]
  },
  {
   "cell_type": "code",
   "execution_count": 11,
   "id": "70fea0d4-f3ac-4430-a7d0-7b3c302a0754",
   "metadata": {},
   "outputs": [],
   "source": [
    "# Prepare additional information\n",
    "datacube = {\n",
    "    \"platform\": platform,\n",
    "    \"time\": torch.tensor(\n",
    "        np.hstack((week_norm, hour_norm)),\n",
    "        dtype=torch.float32,\n",
    "        device=device,\n",
    "    ),\n",
    "    \"latlon\": torch.tensor(\n",
    "        np.hstack((lat_norm, lon_norm)), dtype=torch.float32, device=device\n",
    "    ),\n",
    "    \"pixels\": pixels.to(device),\n",
    "    \"gsd\": torch.tensor(stack.gsd.values, device=device),\n",
    "    \"waves\": torch.tensor(waves, device=device),\n",
    "}"
   ]
  },
  {
   "cell_type": "markdown",
   "id": "4a18e52b-b21e-4c58-a1f2-26b66d73ecbe",
   "metadata": {},
   "source": [
    "### Run the model\n",
    "\n",
    "Pass the datacube we prepared to the model to create embeddings. This will create one embedding vector for each of the images we downloaded."
   ]
  },
  {
   "cell_type": "code",
   "execution_count": 12,
   "id": "69335005-ebd1-4edf-b493-5e314637ef68",
   "metadata": {},
   "outputs": [],
   "source": [
    "with torch.no_grad():\n",
    "    unmsk_patch, unmsk_idx, msk_idx, msk_matrix = model.model.encoder(datacube)\n",
    "\n",
    "# The first embedding is the class token, which is the\n",
    "# overall single embedding. We extract that for PCA below.\n",
    "embeddings = unmsk_patch[:, 0, :].cpu().numpy()"
   ]
  },
  {
   "cell_type": "markdown",
   "id": "62b3ebb8-18a2-4918-b863-01ea36095d9f",
   "metadata": {},
   "source": [
    "### Analyse the embeddings\n",
    "\n",
    "A simple analysis of the embeddings is to reduce each one of them into a single number using Principal Component Analysis. For this we will fit a PCA on the 12 embeddings we have and do the dimensionality reduction for them. We will se a separation into three groups, the previous images, the cloudy images, and the images after the fire, they all fall into a different range of the PCA space."
   ]
  },
  {
   "cell_type": "code",
   "execution_count": 13,
   "id": "e8debf91-e38a-46d2-81c9-24b71a3adfc4",
   "metadata": {},
   "outputs": [
    {
     "data": {
      "text/plain": [
       "<matplotlib.collections.PathCollection at 0x7f847cda1890>"
      ]
     },
     "execution_count": 13,
     "metadata": {},
     "output_type": "execute_result"
    },
    {
     "data": {
      "image/png": "[encoded data removed]",
      "text/plain": [
       "<Figure size 640x480 with 1 Axes>"
      ]
     },
     "metadata": {},
     "output_type": "display_data"
    }
   ],
   "source": [
    "# Run PCA\n",
    "pca = decomposition.PCA(n_components=1)\n",
    "pca_result = pca.fit_transform(embeddings)\n",
    "\n",
    "plt.xticks(rotation=-45)\n",
    "\n",
    "# Plot all points in blue first\n",
    "plt.scatter(stack.time, pca_result, color=\"blue\")\n",
    "\n",
    "# Re-plot cloudy images in green\n",
    "plt.scatter(stack.time[0], pca_result[0], color=\"green\")\n",
    "plt.scatter(stack.time[2], pca_result[2], color=\"green\")\n",
    "\n",
    "# Color all images after fire in red\n",
    "plt.scatter(stack.time[-5:], pca_result[-5:], color=\"red\")"
   ]
  },
  {
   "cell_type": "markdown",
   "id": "b38b70a6-2156-41f8-967e-a490cc8e2778",
   "metadata": {},
   "source": [
    "### And finally, some fine-tuning\n",
    "\n",
    "We are going to train a classifier head on the embeddings and use it to detect fires."
   ]
  },
  {
   "cell_type": "code",
   "execution_count": 14,
   "id": "1da07de0-b8f2-46c9-bd2a-58b15ca2224f",
   "metadata": {},
   "outputs": [
    {
     "name": "stdout",
     "output_type": "stream",
     "text": [
      "Matched 5 out of 5 correctly\n"
     ]
    }
   ],
   "source": [
    "# Label the images we downloaded\n",
    "# 0 = Cloud\n",
    "# 1 = Forest\n",
    "# 2 = Fire\n",
    "labels = np.array([0, 1, 0, 1, 1, 1, 1, 2, 2, 2, 2, 2])\n",
    "\n",
    "# Split into fit and test manually, ensuring we have all 3 classes in both sets\n",
    "fit = [0, 1, 3, 4, 7, 8, 9]\n",
    "test = [2, 5, 6, 10, 11]\n",
    "\n",
    "# Train a Support Vector Machine model\n",
    "clf = svm.SVC()\n",
    "clf.fit(embeddings[fit] + 100, labels[fit])\n",
    "\n",
    "# Predict classes on test set\n",
    "prediction = clf.predict(embeddings[test] + 100)\n",
    "\n",
    "# Perfect match for SVM\n",
    "match = np.sum(labels[test] == prediction)\n",
    "print(f\"Matched {match} out of {len(test)} correctly\")"
   ]
  }
 ],
 "metadata": {
  "kernelspec": {
   "display_name": "Python 3 (ipykernel)",
   "language": "python",
   "name": "python3"
  },
  "language_info": {
   "codemirror_mode": {
    "name": "ipython",
    "version": 3
   },
   "file_extension": ".py",
   "mimetype": "text/x-python",
   "name": "python",
   "nbconvert_exporter": "python",
   "pygments_lexer": "ipython3",
   "version": "3.11.8"
  }
 },
 "nbformat": 4,
 "nbformat_minor": 5
}
