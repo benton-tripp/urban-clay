{
 "cells": [
  {
   "cell_type": "code",
   "execution_count": 51,
   "metadata": {},
   "outputs": [],
   "source": [
    "# Add the repo root to the sys path for the model import below\n",
    "import sys\n",
    "\n",
    "sys.path.append(\"../model\")\n",
    "sys.path.append(\"..\")\n",
    "\n",
    "import math\n",
    "import geopandas as gpd\n",
    "import numpy as np\n",
    "import pystac_client\n",
    "import torch\n",
    "import yaml\n",
    "from box import Box\n",
    "import matplotlib.pyplot as plt\n",
    "import planetary_computer\n",
    "import rioxarray\n",
    "import xarray as xr\n",
    "import rasterio\n",
    "from shapely.geometry import mapping\n",
    "from sklearn import decomposition\n",
    "from torchvision.transforms import v2\n",
    "from src.model import ClayMAEModule\n",
    "\n",
    "# Define latitude, longitude of center of Johnston County, NC\n",
    "county_boundary = gpd.read_file(\"../data/county_boundary.shp\")\n",
    "# Reproject to NC Stateplane\n",
    "county_boundary_utm = county_boundary.to_crs(\"EPSG:26917\")\n",
    "# Calculate centroid in the projected CRS (UTM)\n",
    "county_centroid_utm = county_boundary_utm.centroid\n",
    "# Reproject centroid back to WGS84 to get lat/lon values\n",
    "county_centroid_wgs84 = county_centroid_utm.to_crs(\"EPSG:4326\")\n",
    "# Extract latitude and longitude from the centroid\n",
    "lat = county_centroid_wgs84.y.values[0]\n",
    "lon = county_centroid_wgs84.x.values[0]\n",
    "\n",
    "def get_bounds(poly, crs, lat, lon):\n",
    "    minx, miny, maxx, maxy = county_boundary.to_crs(crs).total_bounds\n",
    "    # Calculate the maximum dimension from the bbox\n",
    "    max_dim = max([abs(maxx - minx), abs(maxy - miny)])\n",
    "    # Calculate half of the max dimension\n",
    "    half_max_dim = max_dim / 2\n",
    "    # Define evenly-spaced box around the centroid\n",
    "    bounds = [\n",
    "        lon - half_max_dim,  # minimum longitude (west)\n",
    "        lat - half_max_dim,  # minimum latitude (south)\n",
    "        lon + half_max_dim,  # maximum longitude (east)\n",
    "        lat + half_max_dim   # maximum latitude (north)\n",
    "    ]\n",
    "    return bounds\n",
    "bounds_wgs84 = get_bounds(county_boundary, \"EPSG:4326\", lat, lon)\n",
    "bounds = get_bounds(county_boundary, \"EPSG:26917\", \n",
    "                    county_centroid_utm.y.values[0], \n",
    "                    county_centroid_utm.x.values[0])\n",
    "\n",
    "# Function to split bounds into tiles\n",
    "def split_bounds(bounds, num_tiles_x, num_tiles_y):\n",
    "    min_x, min_y, max_x, max_y = bounds\n",
    "    x_ranges = np.linspace(min_x, max_x, num_tiles_x + 1)\n",
    "    y_ranges = np.linspace(min_y, max_y, num_tiles_y + 1)\n",
    "    tiles = []\n",
    "    for i in range(num_tiles_x):\n",
    "        for j in range(num_tiles_y):\n",
    "            tile_bounds = [\n",
    "                x_ranges[i], y_ranges[j], x_ranges[i+1], y_ranges[j+1]\n",
    "            ]\n",
    "            tiles.append(tile_bounds)\n",
    "    return tiles\n",
    "\n",
    "def generate_tiles(geometry, tile_size):\n",
    "    # Get the bounds of the geometry\n",
    "    minx, miny, maxx, maxy = geometry.total_bounds\n",
    "    \n",
    "    # Generate grid coordinates\n",
    "    x_coords = np.arange(minx, maxx, tile_size)\n",
    "    y_coords = np.arange(miny, maxy, tile_size)\n",
    "    \n",
    "    tiles = []\n",
    "    for x in x_coords:\n",
    "        for y in y_coords:\n",
    "            # Create a tile as a box (minx, miny, maxx, maxy)\n",
    "            tile = box(x, y, x + tile_size, y + tile_size)\n",
    "            # Check if the tile intersects with the geometry\n",
    "            if tile.intersects(geometry.union_all()):\n",
    "                tiles.append(tile)\n",
    "    return tiles\n",
    "\n",
    "tile_size = 512  # Tile size in meters\n",
    "tiles = generate_tiles(county_boundary_utm, tile_size)\n",
    "tiles_gdf = gpd.GeoDataFrame({'geometry': tiles}, crs=\"EPSG:26917\")\n",
    "tiles_wgs84 = tiles_gdf.to_crs(\"EPSG:4326\")\n",
    "\n",
    "# Dates to query\n",
    "start = \"2021-01-01\"\n",
    "end = \"2023-12-31\"\n",
    "date_range = (start, end)\n",
    "\n",
    "# Bands to query\n",
    "bands = [\"red\", \"green\", \"blue\", \"nir\"]\n",
    "\n",
    "# Resolution of satellite\n",
    "gsd = 1"
   ]
  },
  {
   "cell_type": "code",
   "execution_count": 66,
   "metadata": {},
   "outputs": [
    {
     "name": "stdout",
     "output_type": "stream",
     "text": [
      "Processing tile 1/8100\n",
      "Processing tile 2/8100\n"
     ]
    },
    {
     "name": "stderr",
     "output_type": "stream",
     "text": [
      "c:\\Users\\bento\\gis582\\project\\env\\Lib\\site-packages\\pystac_client\\item_search.py:851: FutureWarning: get_all_items() is deprecated, use item_collection() instead.\n",
      "  warnings.warn(\n"
     ]
    },
    {
     "name": "stdout",
     "output_type": "stream",
     "text": [
      "Processing tile 3/8100\n",
      "Processing tile 4/8100\n",
      "Processing tile 5/8100\n",
      "Processing tile 6/8100\n",
      "Processing tile 7/8100\n",
      "Processing tile 8/8100\n",
      "Processing tile 9/8100\n",
      "Processing tile 10/8100\n"
     ]
    }
   ],
   "source": [
    "# Open the STAC catalog\n",
    "catalog = pystac_client.Client.open(\n",
    "    \"https://planetarycomputer.microsoft.com/api/stac/v1/\",\n",
    "    modifier=planetary_computer.sign_inplace,\n",
    ")\n",
    "# STAC_API = \"https://earth-search.aws.element84.com/v1\"\n",
    "# catalog = pystac_client.Client.open(STAC_API)\n",
    "\n",
    "def query_stac_tile(tile_geometry, start, end, \n",
    "                    collections=[\"naip\"], limit=1000):\n",
    "    # Get the bounds of the tile in WGS84\n",
    "    minx, miny, maxx, maxy = tile_geometry.bounds\n",
    "    bbox = [minx, miny, maxx, maxy]\n",
    "    \n",
    "    # Perform the search\n",
    "    search = catalog.search(\n",
    "        collections=collections,\n",
    "        bbox=bbox,\n",
    "        datetime=f\"{start}/{end}\",\n",
    "        limit=limit\n",
    "    )\n",
    "    \n",
    "    # Get the items from the search results\n",
    "    items = list(search.get_all_items())\n",
    "\n",
    "    return items\n",
    "\n",
    "all_tile_items = []\n",
    "\n",
    "for idx, tile in tiles_wgs84[:10].iterrows():\n",
    "    print(f\"Processing tile {idx + 1}/{len(tiles_wgs84)}\")\n",
    "    tile_items = query_stac_tile(tile['geometry'], start, end)\n",
    "    if tile_items:\n",
    "        all_tile_items.append({\n",
    "            'tile_idx': idx,\n",
    "            'tile_geometry_utm': tiles_gdf.loc[idx, 'geometry'],\n",
    "            'tile_geometry_wgs84': tile['geometry'],\n",
    "            'items': tile_items\n",
    "        })\n",
    "\n",
    "all_tile_items = [i for i in all_tile_items if len(i['items']) > 0]\n",
    "\n",
    "# Collect unique items per tile\n",
    "for tile_data in all_tile_items:\n",
    "    items = tile_data['items']\n",
    "    unique_items = []\n",
    "    dates = []\n",
    "    for item in items:\n",
    "        if item.datetime.date() not in dates:\n",
    "            unique_items.append(item)\n",
    "            dates.append(item.datetime.date())\n",
    "    tile_data['unique_items'] = unique_items"
   ]
  },
  {
   "cell_type": "code",
   "execution_count": 67,
   "metadata": {},
   "outputs": [],
   "source": [
    "# stack = stackstac.stack(\n",
    "#     items,\n",
    "#     bounds=bounds,\n",
    "#     snap_bounds=True,\n",
    "#     epsg=dict(items[0].properties.items())['proj:epsg'],\n",
    "#     resolution=dict(items[0].properties.items())['gsd'],\n",
    "#     dtype=\"float64\",\n",
    "#     rescale=False,\n",
    "#     fill_value=0.,\n",
    "#     assets=['image']\n",
    "# )\n",
    "# print(stack)\n",
    "# stack = stack.compute()\n",
    "# Doesn't work since it is a multi-band raster, instead of a raster with multiple assets..."
   ]
  },
  {
   "cell_type": "code",
   "execution_count": 77,
   "metadata": {},
   "outputs": [
    {
     "name": "stdout",
     "output_type": "stream",
     "text": [
      "Found item: nc_m_3507827_sw_17_060_20221009, Date: 2022-10-09 16:00:00+00:00\n",
      "(1, 4, 853, 853)\n"
     ]
    }
   ],
   "source": [
    "def get_subregion(dataset, bounds):\n",
    "    min_lon, min_lat, max_lon, max_lat = bounds\n",
    "    # Subset the dataset using xarray's sel function\n",
    "    subregion = dataset.sel(\n",
    "        x=slice(min_lon, max_lon),  # Longitude bounds\n",
    "        y=slice(max_lat, min_lat)   # Latitude bounds (flip due to coordinate system)\n",
    "    )\n",
    "    return subregion\n",
    "\n",
    "def get_image_from_item(item, bands, session, chunk_size=2048, \n",
    "                        dtype=np.float32, crs=\"EPSG:26917\", \n",
    "                        bounds=None):\n",
    "    # Print item information\n",
    "    print(f\"Found item: {item.id}, Date: {item.datetime}\")\n",
    "\n",
    "    # Sign the asset URL using planetary_computer to avoid AWS credentials\n",
    "    asset_href = planetary_computer.sign(item.assets[\"image\"].href)  # Correct the URL\n",
    "  \n",
    "    # Use rasterio environment to disable AWS credential requests\n",
    "    with rasterio.Env(): # session=session AWS_NO_SIGN_REQUEST=True\n",
    "        # Open the NAIP image as a lazily loaded xarray dataset using rioxarray\n",
    "        ds = rioxarray.open_rasterio(\n",
    "            asset_href,\n",
    "            chunks={\"band\": -1, \"x\": chunk_size, \"y\": chunk_size},\n",
    "            lock=False\n",
    "        ).assign_coords(band=bands).astype(dtype)\n",
    "    if ds.rio.crs != crs:\n",
    "        ds = ds.rio.reproject(crs)\n",
    "    if bounds is not None:\n",
    "        ds = get_subregion(ds, bounds)\n",
    "    # Convert timezone-aware datetime to naive datetime in UTC\n",
    "    naive_datetime = item.datetime.replace(tzinfo=None)\n",
    "    # Convert to nanosecond precision\n",
    "    time_value = np.datetime64(naive_datetime, 'ns')\n",
    "    # Add time coordinate\n",
    "    ds = ds.expand_dims({\"time\": [time_value]})\n",
    "    return ds\n",
    "\n",
    "# Use xarray to stack datasets along time, for a specific tile\n",
    "stacked_ds = xr.concat([get_image_from_item(item, bands, session, \n",
    "                                            chunk_size=2048, \n",
    "                                            bounds=all_tile_items[0]['tile_geometry_utm'].bounds) \n",
    "               for item in all_tile_items[0]['items']], dim=\"time\")\n",
    "\n",
    "print(stacked_ds.shape)\n",
    "\n",
    "# Plot the dataset (e.g., RGB bands) ---> Failing here when it reads the data\n",
    "# stacked_ds.sel(band=[\"red\", \"green\", \"blue\"]).plot.imshow(\n",
    "#     row=\"time\", rgb=\"band\", vmin=0, vmax=2000, col_wrap=5\n",
    "# )"
   ]
  },
  {
   "cell_type": "code",
   "execution_count": null,
   "metadata": {},
   "outputs": [],
   "source": [
    "# Plot the dataset (e.g., RGB bands) ---> Failing here when it reads the data\n",
    "stacked_ds.sel(band=[\"red\", \"green\", \"blue\"]).plot.imshow(\n",
    "    row=\"time\", rgb=\"band\", vmin=0, vmax=2000, col_wrap=5\n",
    ")"
   ]
  },
  {
   "cell_type": "code",
   "execution_count": 49,
   "metadata": {},
   "outputs": [
    {
     "name": "stderr",
     "output_type": "stream",
     "text": [
      "c:\\Users\\bento\\gis582\\project\\env\\Lib\\site-packages\\torch\\nn\\modules\\transformer.py:307: UserWarning: enable_nested_tensor is True, but self.use_nested_tensor is False because encoder_layer.self_attn.batch_first was not True(use batch_first for better inference performance)\n",
      "  warnings.warn(f\"enable_nested_tensor is True, but self.use_nested_tensor is False because {why_not_sparsity_fast_path}\")\n"
     ]
    }
   ],
   "source": [
    "# `git clone https://github.com/Clay-foundation/model.git`\n",
    "# Download clay-v1-base.ckpt from https://huggingface.co/made-with-clay/Clay/tree/main\n",
    "\n",
    "device = torch.device(\"cuda\") if torch.cuda.is_available() else torch.device(\"cpu\")\n",
    "ckpt = \"../clay-ckpt/clay-v1-base.ckpt\"\n",
    "metadata_path = \"configs/metadata.yaml\" \n",
    "torch.set_default_device(device)\n",
    "\n",
    "model = ClayMAEModule.load_from_checkpoint(\n",
    "    ckpt, metadata_path=metadata_path, shuffle=False, mask_ratio=0\n",
    ")\n",
    "\n",
    "model.eval()\n",
    "model = model.to(device)"
   ]
  },
  {
   "cell_type": "code",
   "execution_count": 50,
   "metadata": {},
   "outputs": [],
   "source": [
    "# Extract mean, std, and wavelengths from metadata\n",
    "platform = \"sentinel-2-l2a\"\n",
    "metadata = Box(yaml.safe_load(open(\"configs/metadata.yaml\")))\n",
    "mean = []\n",
    "std = []\n",
    "waves = []\n",
    "# Use the band names to get the correct values in the correct order.\n",
    "for band in stack.band:\n",
    "    mean.append(metadata[platform].bands.mean[str(band.values)])\n",
    "    std.append(metadata[platform].bands.std[str(band.values)])\n",
    "    waves.append(metadata[platform].bands.wavelength[str(band.values)])\n",
    "\n",
    "# Prepare the normalization transform function using the mean and std values.\n",
    "transform = v2.Compose(\n",
    "    [\n",
    "        v2.Normalize(mean=mean, std=std),\n",
    "    ]\n",
    ")"
   ]
  },
  {
   "cell_type": "code",
   "execution_count": 51,
   "metadata": {},
   "outputs": [],
   "source": [
    "# Prep datetimes embedding using a normalization function from the model code.\n",
    "def normalize_timestamp(date):\n",
    "    week = date.isocalendar().week * 2 * np.pi / 52\n",
    "    hour = date.hour * 2 * np.pi / 24\n",
    "\n",
    "    return (math.sin(week), math.cos(week)), (math.sin(hour), math.cos(hour))\n",
    "\n",
    "\n",
    "datetimes = stack.time.values.astype(\"datetime64[s]\").tolist()\n",
    "times = [normalize_timestamp(dat) for dat in datetimes]\n",
    "week_norm = [dat[0] for dat in times]\n",
    "hour_norm = [dat[1] for dat in times]\n",
    "\n",
    "\n",
    "# Prep lat/lon embedding using the\n",
    "def normalize_latlon(lat, lon):\n",
    "    lat = lat * np.pi / 180\n",
    "    lon = lon * np.pi / 180\n",
    "\n",
    "    return (math.sin(lat), math.cos(lat)), (math.sin(lon), math.cos(lon))\n",
    "\n",
    "\n",
    "latlons = [normalize_latlon(lat, lon)] * len(times)\n",
    "lat_norm = [dat[0] for dat in latlons]\n",
    "lon_norm = [dat[1] for dat in latlons]\n",
    "\n",
    "# Normalize pixels\n",
    "pixels = torch.from_numpy(stack.data.astype(np.float32))\n",
    "pixels = transform(pixels)"
   ]
  },
  {
   "cell_type": "code",
   "execution_count": 52,
   "metadata": {},
   "outputs": [],
   "source": [
    "# Prepare additional information\n",
    "datacube = {\n",
    "    \"platform\": platform,\n",
    "    \"time\": torch.tensor(\n",
    "        np.hstack((week_norm, hour_norm)),\n",
    "        dtype=torch.float32,\n",
    "        device=device,\n",
    "    ),\n",
    "    \"latlon\": torch.tensor(\n",
    "        np.hstack((lat_norm, lon_norm)), dtype=torch.float32, device=device\n",
    "    ),\n",
    "    \"pixels\": pixels.to(device),\n",
    "    \"gsd\": torch.tensor(stack.gsd.values, device=device),\n",
    "    \"waves\": torch.tensor(waves, device=device),\n",
    "}"
   ]
  },
  {
   "cell_type": "code",
   "execution_count": 53,
   "metadata": {},
   "outputs": [],
   "source": [
    "import pickle as pkl\n",
    "\n",
    "with open('data/test_datacube.pkl', 'wb') as f:\n",
    "    pkl.dump(datacube, f)"
   ]
  },
  {
   "cell_type": "code",
   "execution_count": 54,
   "metadata": {},
   "outputs": [
    {
     "name": "stdout",
     "output_type": "stream",
     "text": [
      "Patches shape: torch.Size([4, 1024, 768])\n",
      "Grid size: 32\n"
     ]
    }
   ],
   "source": [
    "with torch.no_grad():\n",
    "    unmsk_patch, unmsk_idx, msk_idx, msk_matrix = model.model.encoder(datacube)\n",
    "\n",
    "# The first embedding is the class token, which is the\n",
    "# overall single embedding. We extract that for PCA below.\n",
    "embeddings = unmsk_patch[:, 0, :].cpu().numpy()"
   ]
  },
  {
   "cell_type": "code",
   "execution_count": 70,
   "metadata": {},
   "outputs": [
    {
     "data": {
      "text/plain": [
       "<matplotlib.collections.PathCollection at 0x22302557050>"
      ]
     },
     "execution_count": 70,
     "metadata": {},
     "output_type": "execute_result"
    },
    {
     "data": {
      "image/png": "[encoded data removed]",
      "text/plain": [
       "<Figure size 640x480 with 1 Axes>"
      ]
     },
     "metadata": {},
     "output_type": "display_data"
    }
   ],
   "source": [
    "# Run PCA\n",
    "pca = decomposition.PCA(n_components=1)\n",
    "pca_result = pca.fit_transform(embeddings[[1,3], :])\n",
    "\n",
    "plt.xticks(rotation=-45)\n",
    "\n",
    "plt.scatter(stack.time[[1,3]], pca_result, color=\"green\")\n"
   ]
  },
  {
   "cell_type": "code",
   "execution_count": 68,
   "metadata": {},
   "outputs": [
    {
     "data": {
      "text/plain": [
       "array([[-0.55381715],\n",
       "       [ 0.55381715]], dtype=float32)"
      ]
     },
     "execution_count": 68,
     "metadata": {},
     "output_type": "execute_result"
    }
   ],
   "source": []
  },
  {
   "cell_type": "code",
   "execution_count": null,
   "metadata": {},
   "outputs": [],
   "source": [
    "# TODO: \n",
    "# Generate small regions for many dates along powerlines in the study area;\n",
    "# generate a padded region around the powerlines, and manually inspect each\n",
    "# of the sub-region to see if trees/vegetation are encroaching (this\n",
    "# will take some manual effort).\n",
    "\n",
    "# From there, fine-tune the model using binary labels (i.e., yes there is)\n",
    "# encroachment, no there isn't.\n",
    "\n",
    "# Notes: for the sentinel satellite, it has 10m granularity"
   ]
  }
 ],
 "metadata": {
  "kernelspec": {
   "display_name": "env",
   "language": "python",
   "name": "python3"
  },
  "language_info": {
   "codemirror_mode": {
    "name": "ipython",
    "version": 3
   },
   "file_extension": ".py",
   "mimetype": "text/x-python",
   "name": "python",
   "nbconvert_exporter": "python",
   "pygments_lexer": "ipython3",
   "version": "3.11.9"
  }
 },
 "nbformat": 4,
 "nbformat_minor": 2
}
