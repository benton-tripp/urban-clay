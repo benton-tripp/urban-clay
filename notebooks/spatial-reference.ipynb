{
 "cells": [
  {
   "cell_type": "code",
   "execution_count": null,
   "metadata": {},
   "outputs": [],
   "source": [
    "import pystac_client\n",
    "import planetary_computer\n",
    "\n",
    "# Initialize STAC client for Sentinel-2 data access\n",
    "catalog = pystac_client.Client.open(\"https://planetarycomputer.microsoft.com/api/stac/v1/\", modifier=planetary_computer.sign_inplace)\n",
    "\n",
    "# Example query to get Sentinel-2 item\n",
    "search = catalog.search(collections=[\"sentinel-2-l2a\"], bbox=[], limit=1) # E.g., [-78.6, 35.3, -78.0, 35.8]\n",
    "items = list(search.items())\n",
    "\n",
    "# Display CRS, bounding box, and resolution\n",
    "if items:\n",
    "    item = items[0]\n",
    "    print(\"Sentinel-2 CRS:\", item.properties['proj:epsg'])  # EPSG code\n",
    "    print(\"Sentinel-2 Bounding Box:\", item.bbox)  # Spatial extent\n",
    "    print(\"Sentinel-2 Resolution:\", item.properties['gsd'])  # Ground sampling distance in meters\n",
    "else:\n",
    "    print(\"No Sentinel-2 data found for the specified region.\")"
   ]
  },
  {
   "cell_type": "code",
   "execution_count": null,
   "metadata": {},
   "outputs": [],
   "source": [
    "def query_available_dates(tile_geometry, catalog, start, end, query, collections=[\"sentinel-2-l2a\"], limit=1000):\n",
    "    # Get the bounds of the tile in WGS84\n",
    "    tile_wgs84 = gpd.GeoSeries([tile_geometry], crs=\"EPSG:32617\").to_crs(\"EPSG:4326\").iloc[0]\n",
    "    minx, miny, maxx, maxy = tile_wgs84.bounds\n",
    "    bbox = [minx, miny, maxx, maxy]\n",
    "\n",
    "    # Perform the search\n",
    "    search = catalog.search(\n",
    "        collections=collections,\n",
    "        bbox=bbox,\n",
    "        datetime=f\"{start}/{end}\",\n",
    "        limit=limit,\n",
    "        query=query\n",
    "    )\n",
    "\n",
    "    # Get the items from the search results and collect dates\n",
    "    items = list(search.items())\n",
    "    available_dates = [item.datetime.date() for item in items]\n",
    "    return available_dates\n",
    "\n",
    "def select_dates_best_spread(dates_list, num_per_year=4):\n",
    "    # Sort the dates list\n",
    "    dates_list.sort()\n",
    "\n",
    "    # Define target months based on the desired number per year\n",
    "    target_months = {\n",
    "        4: [3, 6, 9, 12],  # Default quarters: March, June, September, December\n",
    "        3: [4, 8, 12],     # For 3 dates per year: April, August, December\n",
    "        2: [6, 12],        # For 2 dates per year: June, December\n",
    "        1: [6]             # For 1 date per year: June\n",
    "    }.get(num_per_year, [6])  # Default to June if an unexpected `num_per_year` is given\n",
    "\n",
    "    # Group dates by year\n",
    "    dates_by_year = defaultdict(list)\n",
    "    for d in dates_list:\n",
    "        dates_by_year[d.year].append(d)\n",
    "    \n",
    "    selected_dates = []\n",
    "\n",
    "    # Iterate over each year and select dates with the best spread\n",
    "    for year, available_dates in dates_by_year.items():\n",
    "        yearly_selected = set()\n",
    "        \n",
    "        for month in target_months:\n",
    "            target_date = date(year, month, 1)\n",
    "            \n",
    "            # Find the closest date to the target date in available_dates, if any\n",
    "            closest_date = min(\n",
    "                (d for d in available_dates if d not in yearly_selected),\n",
    "                key=lambda d: abs(d - target_date),\n",
    "                default=None\n",
    "            )\n",
    "            \n",
    "            # Append the closest date if available\n",
    "            if closest_date:\n",
    "                yearly_selected.add(closest_date)\n",
    "        \n",
    "        # Extend selected dates with unique entries for the year\n",
    "        selected_dates.extend(sorted(yearly_selected))\n",
    "    \n",
    "    # Ensure final selection is sorted\n",
    "    selected_dates.sort()\n",
    "    return selected_dates\n",
    "\n",
    "catalog = pystac_client.Client.open(\n",
    "    \"https://planetarycomputer.microsoft.com/api/stac/v1/\",\n",
    "    modifier=planetary_computer.sign_inplace,\n",
    ")\n",
    "query = {\"eo:cloud_cover\": {\"lt\": 1}}\n",
    "\n",
    "collections=[\"sentinel-2-l2a\"]\n",
    "\n",
    "# Dates to query\n",
    "start = \"2016-01-01\"\n",
    "end = \"2024-08-31\"\n",
    "\n",
    "if not os.path.exists(\"../data/available_dates.pkl\"):\n",
    "    available_dates = query_available_dates(tiles_gdf.iloc[0].geometry, catalog, start, end, query)\n",
    "    with open(\"../data/available_dates.pkl\", \"wb\") as f:\n",
    "        pkl.dump(available_dates, f)\n",
    "else:\n",
    "    with open(\"../data/available_dates.pkl\", \"rb\") as f:\n",
    "        available_dates = pkl.load(f)\n",
    "\n",
    "print(\"Number of available dates for processing:\", len(available_dates))\n",
    "\n",
    "buffer_days = 45\n",
    "not_available_dates = [date(2022, 4, 3), date(2022, 2, 14), date(2021, 9, 27),  date(2021, 8, 8),\n",
    "                       date(2020, 12, 1), date(2020, 10, 7), date(2019, 4, 4), date(2019, 2, 5), \n",
    "                       date(2018, 11, 27), date(2018, 10, 1)]\n",
    "omit_dates = [date(2024, 6, 11), date(2022, 6, 17), date(2021, 4, 30), date(2020, 7, 12), \n",
    "              date(2019, 7, 30), date(2018, 5, 11), date(2017, 9, 8)]\n",
    "selected_dates = select_dates_best_spread([d for d in available_dates if d !=  date(2017, 5, 16) and d != date(2024, 8, 27)\n",
    "                                           and all(not (nd - timedelta(days=buffer_days) <= d <= nd + timedelta(days=buffer_days)) \n",
    "                                                   for nd in not_available_dates)], 3) \n",
    "selected_dates = [d for d in selected_dates if d not in omit_dates]\n",
    "print(\"Number of selected dates for processing:\", len(selected_dates))"
   ]
  },
  {
   "cell_type": "code",
   "execution_count": 2,
   "metadata": {},
   "outputs": [
    {
     "name": "stdout",
     "output_type": "stream",
     "text": [
      "NLCD CRS: PROJCS[\"Albers_Conical_Equal_Area\",GEOGCS[\"WGS 84\",DATUM[\"WGS_1984\",SPHEROID[\"WGS 84\",6378137,298.257223563,AUTHORITY[\"EPSG\",\"7030\"]],AUTHORITY[\"EPSG\",\"6326\"]],PRIMEM[\"Greenwich\",0,AUTHORITY[\"EPSG\",\"8901\"]],UNIT[\"degree\",0.0174532925199433,AUTHORITY[\"EPSG\",\"9122\"]],AUTHORITY[\"EPSG\",\"4326\"]],PROJECTION[\"Albers_Conic_Equal_Area\"],PARAMETER[\"latitude_of_center\",23],PARAMETER[\"longitude_of_center\",-96],PARAMETER[\"standard_parallel_1\",29.5],PARAMETER[\"standard_parallel_2\",45.5],PARAMETER[\"false_easting\",0],PARAMETER[\"false_northing\",0],UNIT[\"meters\",1],AXIS[\"Easting\",EAST],AXIS[\"Northing\",NORTH]]\n",
      "NLCD Spatial Extent (bounds): BoundingBox(left=-2493045.0, bottom=177285.0, right=2342655.0, top=3310005.0)\n",
      "NLCD Resolution: (30.0, 30.0)\n"
     ]
    }
   ],
   "source": [
    "import rasterio\n",
    "\n",
    "# Path to NLCD urban imperviousness data\n",
    "nlcd_path = \"D:/data/nlcd_2016_impervious_l48_20210604/nlcd_2016_impervious_l48_20210604.img\" \n",
    "\n",
    "# Open the NLCD data to retrieve spatial information\n",
    "with rasterio.open(nlcd_path) as nlcd:\n",
    "    print(\"NLCD CRS:\", nlcd.crs)\n",
    "    print(\"NLCD Spatial Extent (bounds):\", nlcd.bounds)\n",
    "    print(\"NLCD Resolution:\", nlcd.res)  # Resolution in (x, y) format\n"
   ]
  },
  {
   "cell_type": "code",
   "execution_count": 1,
   "metadata": {},
   "outputs": [
    {
     "name": "stdout",
     "output_type": "stream",
     "text": [
      "Johnston County Boundary CRS: EPSG:32617\n",
      "Johnston County Boundary Spatial Extent (bounds): [ 707750.12914638 3904356.29395498  765959.87280919 3967194.75168451]\n"
     ]
    }
   ],
   "source": [
    "import geopandas as gpd\n",
    "\n",
    "# Path to Johnston County boundary shapefile\n",
    "county_path = \"../data/county_boundary.shp\"  # Update with actual path\n",
    "\n",
    "# Load county boundary and print CRS and bounds\n",
    "county_boundary = gpd.read_file(county_path)\n",
    "print(\"Johnston County Boundary CRS:\", county_boundary.crs)\n",
    "print(\"Johnston County Boundary Spatial Extent (bounds):\", county_boundary.total_bounds)\n"
   ]
  },
  {
   "cell_type": "code",
   "execution_count": null,
   "metadata": {},
   "outputs": [],
   "source": []
  }
 ],
 "metadata": {
  "kernelspec": {
   "display_name": "env",
   "language": "python",
   "name": "python3"
  },
  "language_info": {
   "codemirror_mode": {
    "name": "ipython",
    "version": 3
   },
   "file_extension": ".py",
   "mimetype": "text/x-python",
   "name": "python",
   "nbconvert_exporter": "python",
   "pygments_lexer": "ipython3",
   "version": "3.11.9"
  }
 },
 "nbformat": 4,
 "nbformat_minor": 2
}
